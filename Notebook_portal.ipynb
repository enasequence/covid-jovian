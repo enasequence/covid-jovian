{
 "cells": [
  {
   "cell_type": "markdown",
   "metadata": {},
   "source": [
    "___\n",
    "# Jovian Portal\n",
    "**Configure and start an analysis**\n",
    "___"
   ]
  },
  {
   "cell_type": "markdown",
   "metadata": {},
   "source": [
    "**Explanation:**  \n",
    "- To run a cell, click on a cell with your mouse, and then press the \"`Run`\" button in the toolbar above or press \"`Ctrl-Enter`\" on your keyboard.  \n",
    "- You can see if something is currently running by looking at the circle in the top-right corner, next to the text \"`python [conda env: Jovian_master]*`\". If the circle is hollow, nothing is currently being done. If it has a solid color, then something is currently running.  "
   ]
  },
  {
   "cell_type": "markdown",
   "metadata": {},
   "source": [
    "___\n",
    "## Pipeline configuration\n",
    "___"
   ]
  },
  {
   "cell_type": "markdown",
   "metadata": {},
   "source": [
    "Please assess and/or configure the pipeline configurations by editing the `profile/pipeline_parameters.yaml` file. You can do this by opening the file via the Jupyter \"tree\" viewer."
   ]
  },
  {
   "cell_type": "markdown",
   "metadata": {},
   "source": [
    "Below you will find all Jovian parameters."
   ]
  },
  {
   "cell_type": "code",
   "execution_count": null,
   "metadata": {
    "deletable": false,
    "editable": false,
    "init_cell": true,
    "scrolled": true
   },
   "outputs": [],
   "source": [
    "%%bash\n",
    "bash jovian --help"
   ]
  },
  {
   "cell_type": "markdown",
   "metadata": {},
   "source": [
    "___\n",
    "## Dry-run  \n",
    "_With a \"dry-run\" we check for errors before starting the actual analysis. If the text ends with the unique identifier then no errors were found._  \n",
    "\n",
    "**Depending on the size of your dataset, this might take several minutes.**\n",
    "___\n",
    "\n",
    "Please [click here for feedback](logs/portal/Jovian_dry-run.log) about the ongoing analysis progress."
   ]
  },
  {
   "cell_type": "code",
   "execution_count": null,
   "metadata": {
    "scrolled": false
   },
   "outputs": [],
   "source": [
    "%%bash\n",
    "mkdir -p logs/portal\n",
    "bash jovian -nq -i ./raw_data/ > logs/portal/Jovian_dry-run.log\n",
    "cat logs/portal/Jovian_dry-run.log"
   ]
  },
  {
   "cell_type": "markdown",
   "metadata": {},
   "source": [
    "___\n",
    "## Start the analysis\n",
    "**Depending on the size of your dataset and the amount of computer resources available to you, this can take hours.**\n",
    "___"
   ]
  },
  {
   "cell_type": "markdown",
   "metadata": {},
   "source": [
    "Please [click here for feedback](logs/portal/Jovian_run.log) about the ongoing analysis progress."
   ]
  },
  {
   "cell_type": "code",
   "execution_count": null,
   "metadata": {
    "scrolled": true
   },
   "outputs": [],
   "source": [
    "%%bash\n",
    "mkdir -p logs/portal\n",
    "bash jovian -i ./raw_data/ > logs/portal/Jovian_run.log\n",
    "cat logs/portal/Jovian_run.log"
   ]
  },
  {
   "cell_type": "markdown",
   "metadata": {},
   "source": [
    "___\n",
    "## Virus typing\n",
    "___"
   ]
  },
  {
   "cell_type": "markdown",
   "metadata": {},
   "source": [
    "Please run the cell below to get an explanation of the different virus typing options."
   ]
  },
  {
   "cell_type": "code",
   "execution_count": null,
   "metadata": {
    "deletable": false,
    "editable": false,
    "init_cell": true,
    "scrolled": true
   },
   "outputs": [],
   "source": [
    "%%bash\n",
    "bash jovian -vt-help"
   ]
  },
  {
   "cell_type": "markdown",
   "metadata": {},
   "source": [
    "### Caliciviridae typing  \n",
    "\n",
    "Please [click here for feedback](logs/portal/TT-NoV.log) about the ongoing analysis progress."
   ]
  },
  {
   "cell_type": "code",
   "execution_count": null,
   "metadata": {
    "deletable": false,
    "editable": false,
    "scrolled": true
   },
   "outputs": [],
   "source": [
    "%%bash\n",
    "mkdir -p logs/portal\n",
    "bash jovian --virus-typing NoV > logs/portal/TT-NoV.log\n",
    "cat logs/portal/TT-NoV.log"
   ]
  },
  {
   "cell_type": "markdown",
   "metadata": {},
   "source": [
    "### Picornaviridae typing  \n",
    "\n",
    "Please [click here for feedback](logs/portal/TT-EV.log) about the ongoing analysis progress."
   ]
  },
  {
   "cell_type": "code",
   "execution_count": null,
   "metadata": {
    "deletable": false,
    "editable": false,
    "scrolled": true
   },
   "outputs": [],
   "source": [
    "%%bash\n",
    "mkdir -p logs/portal\n",
    "bash jovian --virus-typing EV > logs/portal/TT-EV.log\n",
    "cat logs/portal/TT-EV.log"
   ]
  },
  {
   "cell_type": "markdown",
   "metadata": {},
   "source": [
    "### Rotavirus A typing  \n",
    "\n",
    "Please [click here for feedback](logs/portal/TT-RVA.log) about the ongoing analysis progress."
   ]
  },
  {
   "cell_type": "code",
   "execution_count": null,
   "metadata": {
    "deletable": false,
    "editable": false,
    "scrolled": true
   },
   "outputs": [],
   "source": [
    "%%bash\n",
    "mkdir -p logs/portal\n",
    "bash jovian --virus-typing RVA > logs/portal/TT-RVA.log\n",
    "cat logs/portal/TT-RVA.log"
   ]
  },
  {
   "cell_type": "markdown",
   "metadata": {},
   "source": [
    "### Hepatovirus (Hepatitis A) typing  \n",
    "\n",
    "Please [click here for feedback](logs/portal/TT-HAV.log) about the ongoing analysis progress."
   ]
  },
  {
   "cell_type": "code",
   "execution_count": null,
   "metadata": {
    "deletable": false,
    "editable": false,
    "scrolled": true
   },
   "outputs": [],
   "source": [
    "%%bash\n",
    "mkdir -p logs/portal\n",
    "bash jovian --virus-typing HAV > logs/portal/TT-HAV.log\n",
    "cat logs/portal/TT-HAV.log"
   ]
  },
  {
   "cell_type": "markdown",
   "metadata": {},
   "source": [
    "### Orthohepevirus (Hepatitis E) typing  \n",
    "\n",
    "Please [click here for feedback](logs/portal/TT-HEV.log) about the ongoing analysis progress."
   ]
  },
  {
   "cell_type": "code",
   "execution_count": null,
   "metadata": {
    "deletable": false,
    "editable": false,
    "scrolled": true
   },
   "outputs": [],
   "source": [
    "%%bash\n",
    "mkdir -p logs/portal\n",
    "bash jovian --virus-typing HEV > logs/portal/TT-HEV.log\n",
    "cat logs/portal/TT-HEV.log"
   ]
  },
  {
   "cell_type": "markdown",
   "metadata": {},
   "source": [
    "### Papillomavirida (HPV) typing  \n",
    "\n",
    "Please [click here for feedback](logs/portal/TT-PV.log) about the ongoing analysis progress."
   ]
  },
  {
   "cell_type": "code",
   "execution_count": null,
   "metadata": {
    "deletable": false,
    "editable": false,
    "scrolled": true
   },
   "outputs": [],
   "source": [
    "%%bash\n",
    "mkdir -p logs/portal\n",
    "bash jovian --virus-typing PV > logs/portal/TT-PV.log\n",
    "cat logs/portal/TT-PV.log"
   ]
  },
  {
   "cell_type": "markdown",
   "metadata": {},
   "source": [
    "### Flaviviridae typing  \n",
    "\n",
    "Please [click here for feedback](logs/portal/TT-Flavi.log) about the ongoing analysis progress."
   ]
  },
  {
   "cell_type": "code",
   "execution_count": null,
   "metadata": {
    "deletable": false,
    "editable": false,
    "scrolled": true
   },
   "outputs": [],
   "source": [
    "%%bash\n",
    "mkdir -p logs/portal\n",
    "bash jovian --virus-typing Flavi > logs/portal/TT-Flavi.log\n",
    "cat logs/portal/TT-Flavi.log"
   ]
  },
  {
   "cell_type": "markdown",
   "metadata": {},
   "source": [
    "___\n",
    "## Jovian report\n",
    "**Please click the logo below to access the Jovian report.**\n",
    "___"
   ]
  },
  {
   "cell_type": "code",
   "execution_count": null,
   "metadata": {
    "deletable": false,
    "editable": false
   },
   "outputs": [],
   "source": [
    "%%html\n",
    "<a href=\"Notebook_report.ipynb\" target=\"_blank\">\n",
    "    <img src=\"https://github.com/DennisSchmitz/Jovian/blob/assets/images/Jovian_logo.png?raw=true\" width=\"200\" height=\"200\" title=\"Jovian report\" alt=\"Please click here to view the Jovian report.\">\n",
    "</a>"
   ]
  },
  {
   "cell_type": "markdown",
   "metadata": {},
   "source": [
    "___\n",
    "## Log files\n",
    "___"
   ]
  },
  {
   "cell_type": "code",
   "execution_count": null,
   "metadata": {
    "deletable": false,
    "editable": false
   },
   "outputs": [],
   "source": [
    "%%HTML\n",
    "<script>\n",
    "function goBack() {\n",
    "    window.history.back()\n",
    "}\n",
    "</script>\n",
    "\n",
    "<button onclick=\"goBack()\">Click this button to go back</button>\n",
    "\n",
    "<div style=\"text-align: center\">\n",
    "    <iframe src=\"results/logfiles_index.html\" width=1400 height=980></iframe>\n",
    "</div>"
   ]
  },
  {
   "cell_type": "markdown",
   "metadata": {},
   "source": [
    "___\n",
    "## Archiving an analysis\n",
    "___"
   ]
  },
  {
   "cell_type": "markdown",
   "metadata": {},
   "source": [
    "You can archive a run for long-term storage. The analysis results will be compressed into a single file, that will take up less disk space, that can be restored at a later point in time.  \n",
    "**N.B.** The compression process can take hours, depending on the size of the analysis and the amount of computer resources available to you. We recommend you to do it overnight.  \n",
    "\n",
    "_**Do not cancel this process once started.**_\n",
    "\n",
    "Please [click here for feedback](logs/portal/archive.log) about the ongoing analysis progress."
   ]
  },
  {
   "cell_type": "code",
   "execution_count": null,
   "metadata": {
    "deletable": false,
    "editable": false,
    "run_control": {
     "frozen": true
    }
   },
   "outputs": [],
   "source": [
    "%%bash\n",
    "mkdir -p logs/portal\n",
    "bash jovian --archive -y > logs/portal/archive.log\n",
    "cat logs/portal/archive.log"
   ]
  },
  {
   "cell_type": "markdown",
   "metadata": {},
   "source": [
    "___\n",
    "## Restore a prior analysis from archive\n",
    "___"
   ]
  },
  {
   "cell_type": "markdown",
   "metadata": {},
   "source": [
    "You can restore a previous archive by running the cell below. N.B. this can take a while to complete.  \n",
    "\n",
    "Please [click here for feedback](logs/portal/archive-rebuild.log) about the ongoing archiving progress."
   ]
  },
  {
   "cell_type": "code",
   "execution_count": null,
   "metadata": {
    "deletable": false,
    "editable": false,
    "run_control": {
     "frozen": true
    }
   },
   "outputs": [],
   "source": [
    "%%bash\n",
    "mkdir -p logs/portal\n",
    "bash jovian --rebuild-archive -y > logs/portal/archive-rebuild.log\n",
    "cat logs/portal/archive-rebuild.log"
   ]
  },
  {
   "cell_type": "markdown",
   "metadata": {},
   "source": [
    "___\n",
    "Jovian is available on [GitHub](https://github.com/DennisSchmitz/Jovian) under a [AGPL license](https://www.gnu.org/licenses/agpl-3.0). The virus-typing tools are public services hosted by the [RIVM](https://www.rivm.nl/en) and developed independently of Jovian.\n",
    "___"
   ]
  }
 ],
 "metadata": {
  "hide_input": false,
  "kernelspec": {
   "display_name": "Python [conda env:Jovian_master] *",
   "language": "python",
   "name": "conda-env-Jovian_master-py"
  },
  "language_info": {
   "codemirror_mode": {
    "name": "ipython",
    "version": 3
   },
   "file_extension": ".py",
   "mimetype": "text/x-python",
   "name": "python",
   "nbconvert_exporter": "python",
   "pygments_lexer": "ipython3",
   "version": "3.6.7"
  },
  "toc": {
   "base_numbering": 1,
   "nav_menu": {},
   "number_sections": false,
   "sideBar": true,
   "skip_h1_title": false,
   "title_cell": "Table of Contents",
   "title_sidebar": "Contents",
   "toc_cell": false,
   "toc_position": {
    "height": "calc(100% - 180px)",
    "left": "10px",
    "top": "150px",
    "width": "268px"
   },
   "toc_section_display": true,
   "toc_window_display": true
  },
  "varInspector": {
   "cols": {
    "lenName": 16,
    "lenType": 16,
    "lenVar": 40
   },
   "kernels_config": {
    "python": {
     "delete_cmd_postfix": "",
     "delete_cmd_prefix": "del ",
     "library": "var_list.py",
     "varRefreshCmd": "print(var_dic_list())"
    },
    "r": {
     "delete_cmd_postfix": ") ",
     "delete_cmd_prefix": "rm(",
     "library": "var_list.r",
     "varRefreshCmd": "cat(var_dic_list()) "
    }
   },
   "types_to_exclude": [
    "module",
    "function",
    "builtin_function_or_method",
    "instance",
    "_Feature"
   ],
   "window_display": false
  }
 },
 "nbformat": 4,
 "nbformat_minor": 2
}
