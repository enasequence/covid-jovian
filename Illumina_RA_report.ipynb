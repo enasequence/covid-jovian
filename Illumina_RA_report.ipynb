{
 "cells": [
  {
   "cell_type": "markdown",
   "metadata": {},
   "source": [
    "# Jovian analysis report"
   ]
  },
  {
   "cell_type": "code",
   "execution_count": 1,
   "metadata": {},
   "outputs": [],
   "source": [
    "import pandas as pd\n",
    "import qgrid\n",
    "import glob\n",
    "import os\n",
    "from IPython.display import display as dp\n",
    "from IPython.display import Markdown as md\n",
    "from IPython.display import IFrame as fr\n",
    "from IPython.display import HTML as ht"
   ]
  },
  {
   "cell_type": "code",
   "execution_count": 4,
   "metadata": {},
   "outputs": [
    {
     "data": {
      "text/html": [
       "\n",
       "        <iframe\n",
       "            width=\"100%\"\n",
       "            height=\"980px\"\n",
       "            src=\"results/multiqc.html\"\n",
       "            frameborder=\"0\"\n",
       "            allowfullscreen\n",
       "        ></iframe>\n",
       "        "
      ],
      "text/plain": [
       "<IPython.lib.display.IFrame at 0x11fa4cf90>"
      ]
     },
     "metadata": {},
     "output_type": "display_data"
    }
   ],
   "source": [
    "dp(fr('results/multiqc.html', '100%', '980px'))"
   ]
  },
  {
   "cell_type": "code",
   "execution_count": 25,
   "metadata": {},
   "outputs": [
    {
     "data": {
      "text/html": [
       "\n",
       "        <iframe\n",
       "            width=\"100%\"\n",
       "            height=\"980px\"\n",
       "            src=\"results/igv.html\"\n",
       "            frameborder=\"0\"\n",
       "            allowfullscreen\n",
       "        ></iframe>\n",
       "        "
      ],
      "text/plain": [
       "<IPython.lib.display.IFrame at 0x122610550>"
      ]
     },
     "metadata": {},
     "output_type": "display_data"
    }
   ],
   "source": [
    "dp(fr('results/igv.html', '100%', '980px'))"
   ]
  },
  {
   "cell_type": "code",
   "execution_count": 17,
   "metadata": {},
   "outputs": [
    {
     "data": {
      "text/html": [
       "<table border=\"1\" class=\"dataframe\">\n",
       "  <thead>\n",
       "    <tr style=\"text-align: right;\">\n",
       "      <th></th>\n",
       "      <th>Sample_name</th>\n",
       "      <th>Total_ref_size</th>\n",
       "      <th>BoC_at_coverage_threshold_1</th>\n",
       "      <th>BoC_at_coverage_threshold_5</th>\n",
       "      <th>BoC_at_coverage_threshold_10</th>\n",
       "      <th>BoC_at_coverage_threshold_30</th>\n",
       "      <th>BoC_at_coverage_threshold_100</th>\n",
       "    </tr>\n",
       "  </thead>\n",
       "  <tbody>\n",
       "    <tr>\n",
       "      <th>0</th>\n",
       "      <td>ERR4422712</td>\n",
       "      <td>29786</td>\n",
       "      <td>29785</td>\n",
       "      <td>29373</td>\n",
       "      <td>29176</td>\n",
       "      <td>28175</td>\n",
       "      <td>27393</td>\n",
       "    </tr>\n",
       "  </tbody>\n",
       "</table>"
      ],
      "text/plain": [
       "<IPython.core.display.HTML object>"
      ]
     },
     "metadata": {},
     "output_type": "display_data"
    }
   ],
   "source": [
    "boc_int = pd.read_csv(\"results/BoC_int.tsv\", sep = \"\\t\")\n",
    "dp(ht(boc_int.to_html()))"
   ]
  },
  {
   "cell_type": "code",
   "execution_count": 19,
   "metadata": {},
   "outputs": [
    {
     "data": {
      "text/html": [
       "<table border=\"1\" class=\"dataframe\">\n",
       "  <thead>\n",
       "    <tr style=\"text-align: right;\">\n",
       "      <th></th>\n",
       "      <th>Sample_name</th>\n",
       "      <th>Total_ref_size</th>\n",
       "      <th>BoC_at_coverage_threshold_1</th>\n",
       "      <th>BoC_at_coverage_threshold_5</th>\n",
       "      <th>BoC_at_coverage_threshold_10</th>\n",
       "      <th>BoC_at_coverage_threshold_30</th>\n",
       "      <th>BoC_at_coverage_threshold_100</th>\n",
       "    </tr>\n",
       "  </thead>\n",
       "  <tbody>\n",
       "    <tr>\n",
       "      <th>0</th>\n",
       "      <td>ERR4422712</td>\n",
       "      <td>29786</td>\n",
       "      <td>100.0</td>\n",
       "      <td>98.61</td>\n",
       "      <td>97.95</td>\n",
       "      <td>94.59</td>\n",
       "      <td>91.97</td>\n",
       "    </tr>\n",
       "  </tbody>\n",
       "</table>"
      ],
      "text/plain": [
       "<IPython.core.display.HTML object>"
      ]
     },
     "metadata": {},
     "output_type": "display_data"
    }
   ],
   "source": [
    "boc_pct = pd.read_csv(\"results/BoC_pct.tsv\", sep = \"\\t\")\n",
    "dp(ht(boc_pct.to_html()))"
   ]
  },
  {
   "cell_type": "code",
   "execution_count": 22,
   "metadata": {},
   "outputs": [
    {
     "data": {
      "text/html": [
       "<table border=\"1\" class=\"dataframe\">\n",
       "  <thead>\n",
       "    <tr style=\"text-align: right;\">\n",
       "      <th></th>\n",
       "      <th></th>\n",
       "      <th></th>\n",
       "      <th></th>\n",
       "      <th></th>\n",
       "      <th></th>\n",
       "      <th># The events below are incorporated into the consensus genome, depending on the INDELS versus the user-supplied reference these coordinates are not comparable to the generated consensus genome in the results/sequences/ folder</th>\n",
       "    </tr>\n",
       "  </thead>\n",
       "  <tbody>\n",
       "    <tr>\n",
       "      <th>Sample</th>\n",
       "      <th>Reference AccessionID</th>\n",
       "      <th>Position</th>\n",
       "      <th>Type</th>\n",
       "      <th>Reference</th>\n",
       "      <th>Alternative</th>\n",
       "      <td>Quality</td>\n",
       "    </tr>\n",
       "    <tr>\n",
       "      <th>ERR4422712</th>\n",
       "      <th>BetaCoV/Italy/CDG1/2020|EPI_ISL_412973_2020-02-20</th>\n",
       "      <th>20225</th>\n",
       "      <th>SNP</th>\n",
       "      <th>A</th>\n",
       "      <th>G</th>\n",
       "      <td>15252</td>\n",
       "    </tr>\n",
       "  </tbody>\n",
       "</table>"
      ],
      "text/plain": [
       "<IPython.core.display.HTML object>"
      ]
     },
     "metadata": {},
     "output_type": "display_data"
    }
   ],
   "source": [
    "snp = pd.read_csv(\"results/SNPs.tsv\", sep = \"\\t\")\n",
    "dp(ht(snp.to_html()))"
   ]
  },
  {
   "cell_type": "code",
   "execution_count": null,
   "metadata": {},
   "outputs": [],
   "source": []
  }
 ],
 "metadata": {
  "kernelspec": {
   "display_name": "Python 3",
   "language": "python",
   "name": "python3"
  },
  "language_info": {
   "codemirror_mode": {
    "name": "ipython",
    "version": 3
   },
   "file_extension": ".py",
   "mimetype": "text/x-python",
   "name": "python",
   "nbconvert_exporter": "python",
   "pygments_lexer": "ipython3",
   "version": "3.7.7"
  }
 },
 "nbformat": 4,
 "nbformat_minor": 2
}
